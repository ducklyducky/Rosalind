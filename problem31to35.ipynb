{
 "cells": [
  {
   "cell_type": "code",
   "execution_count": null,
   "id": "396b8189",
   "metadata": {},
   "outputs": [
    {
     "name": "stdout",
     "output_type": "stream",
     "text": [
      "2.15000000000\n"
     ]
    }
   ],
   "source": [
    "#problem31: Transitions and Transversions\n",
    "#transition: A <-> G / C <-> T\n",
    "#transversion: A <-> C, A<->T, G<->C, G<->T\n",
    "#transition transversion 변이 처리\n",
    "\n",
    "\n",
    "data = {}\n",
    "with open(\"rosalind_tran.txt\") as handle:\n",
    "    for line in handle:\n",
    "        line = line.strip()\n",
    "        if line.startswith(\">\"):\n",
    "            id = line[1:]\n",
    "            data[id] = \"\"\n",
    "        else:\n",
    "            data[id] += line\n",
    "\n",
    "s1, s2 = data.values()\n",
    "\n",
    "def trans(s1, s2):\n",
    "    transisions = 0\n",
    "    transversions = 0 \n",
    "    transition_pairs = {('A', 'G'), ('G', 'A'), ('C', 'T'), ('T', 'C') }\n",
    "    i = 0\n",
    "    \n",
    "    while i < len(s1):\n",
    "        if s1[i] != s2[i]:\n",
    "            if (s1[i], s2[i]) in transition_pairs:\n",
    "                transisions += 1\n",
    "            else:\n",
    "                transversions += 1\n",
    "        i += 1\n",
    "    result = transisions/transversions\n",
    "    return result\n",
    "\n",
    "print(f\"{trans(s1, s2):.11f}\")\n",
    "\n"
   ]
  },
  {
   "cell_type": "code",
   "execution_count": null,
   "id": "3694b27e",
   "metadata": {
    "vscode": {
     "languageId": "ini"
    }
   },
   "outputs": [],
   "source": [
    "#problem32: Completing a Tree\n",
    "# n개의 노드가 있으면 (n-1)개의 간선만 있어야 tree\n",
    "#사이클이 없어야 한다\n",
    "# 모든 노드는 연결되어 있어야 한다\n",
    "#이미 연결된 건 다시 연결하면 안 된다\n",
    "#머리아파서 못하겠다 너무 어렵다.. 질문이 잘 이해가 안간다..\n"
   ]
  },
  {
   "cell_type": "code",
   "execution_count": null,
   "id": "0a5b515d",
   "metadata": {},
   "outputs": [],
   "source": [
    "#problem33: Catalan Numbers and RNA Secondary Structures\n"
   ]
  }
 ],
 "metadata": {
  "kernelspec": {
   "display_name": "base",
   "language": "python",
   "name": "python3"
  },
  "language_info": {
   "codemirror_mode": {
    "name": "ipython",
    "version": 3
   },
   "file_extension": ".py",
   "mimetype": "text/x-python",
   "name": "python",
   "nbconvert_exporter": "python",
   "pygments_lexer": "ipython3",
   "version": "3.9.12"
  }
 },
 "nbformat": 4,
 "nbformat_minor": 5
}
