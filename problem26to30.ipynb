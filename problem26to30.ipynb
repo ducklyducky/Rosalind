{
 "cells": [
  {
   "cell_type": "code",
   "execution_count": 12,
   "id": "a1052298",
   "metadata": {},
   "outputs": [
    {
     "name": "stdout",
     "output_type": "stream",
     "text": [
      "50903097535173096709816320000000\n"
     ]
    }
   ],
   "source": [
    "#problem26: Perfect Matchings and RNA Secondary Structures\n",
    "\n",
    "#RNA seq의 가능한 perfect matching 개수 구하기\n",
    "#matching: 그래프에서 노드들이 edge를 통해 짝을 이루는데,\n",
    "#어떤 노드도 두 개 이상의 edge에 포함되지 않도록 한 집합\n",
    "#A=U, C=G인 경우에만 완전 매칭 가능, 문자열의 길이도 짝수\n",
    "#이미 sample은 그 상태로 주어짐\n",
    "#그냥 팩토리얼인게?\n",
    "\n",
    "sample_data = {}\n",
    "with open(\"rosalind_pmch.txt\") as handle:\n",
    "    for line in handle:\n",
    "        line = line.strip()\n",
    "        if line.startswith(\">\"):\n",
    "            id = line[1:]\n",
    "            sample_data[id] = \"\"\n",
    "        else:\n",
    "            sample_data[id] += line\n",
    "\n",
    "read = str(sample_data.values())\n",
    "A_counts = read.count(\"A\")\n",
    "G_counts =  read.count(\"G\")\n",
    "\n",
    "#factorials\n",
    "def factorial(num):\n",
    "    result = 1\n",
    "    for i in range(num, 0, -1):\n",
    "        result *= i\n",
    "    return result\n",
    "\n",
    "#find perfact match\n",
    "def match(num1, num2):\n",
    "    global factorial\n",
    "    return factorial(num1) * factorial(num2)\n",
    "\n",
    "print(match(A_counts, G_counts))\n",
    "\n"
   ]
  },
  {
   "cell_type": "code",
   "execution_count": 22,
   "id": "a5eda7fd",
   "metadata": {},
   "outputs": [
    {
     "name": "stdout",
     "output_type": "stream",
     "text": [
      "48640\n"
     ]
    }
   ],
   "source": [
    "#problem27: Partial Permutations\n",
    "\n",
    "# factorial 함수\n",
    "def factorial(num):\n",
    "    result = 1\n",
    "    for i in range(num, 0, -1):\n",
    "        result *= i\n",
    "    return result\n",
    "\n",
    "# partial factorial P(n, k) = n! / (n-k)!\n",
    "def partial_factorial(n, k):\n",
    "    result = factorial(n) // factorial(n - k)\n",
    "    return result % 1_000_000\n",
    "\n",
    "# 입력\n",
    "n = int(input(\"100>=n>0: \"))\n",
    "k = int(input(\"10>=k>0: \"))\n",
    "\n",
    "# 출력\n",
    "print(partial_factorial(n, k))\n"
   ]
  },
  {
   "cell_type": "code",
   "execution_count": 38,
   "id": "cfb86cfc",
   "metadata": {},
   "outputs": [
    {
     "name": "stdout",
     "output_type": "stream",
     "text": [
      "-84.8871 -68.8899 -63.7492 -62.6429 -58.5546 -58.0393 -57.0193 -56.1347 -56.1007 -56.3361 -57.4394 -57.9074 -59.5849 -61.9616 -69.2881 -70.8360 -82.0393\n"
     ]
    }
   ],
   "source": [
    "#problem28: Introduction to Random Strings\n",
    "import math\n",
    "\n",
    "GC_contents = []\n",
    "read = \"\"\n",
    "\n",
    "with open(\"rosalind_prob.txt\") as handle:\n",
    "    for line in handle:\n",
    "        line = line.strip()\n",
    "        if line[0] in \"ATGC\":\n",
    "            read += line\n",
    "        else:\n",
    "            prob = line.split()\n",
    "            for num in prob:\n",
    "                GC_contents.append(float(num))\n",
    "\n",
    "def cal_prob(read, GC_contents):\n",
    "    result = []\n",
    "    for gc in GC_contents:\n",
    "        probability = 1\n",
    "        GorC_per = gc/2\n",
    "        AorT_per = (1-gc)/2\n",
    "        for base in read:\n",
    "            if base in \"GC\":\n",
    "                probability*=GorC_per\n",
    "            elif base in \"AT\":\n",
    "                probability*=AorT_per\n",
    "        result.append(probability)\n",
    "    result_log = [math.log10(x) for x in result]\n",
    "    \n",
    "    return(result_log)\n",
    "\n",
    "results = cal_prob(read, GC_contents)\n",
    "print(' '.join(f\"{x:.4f}\" for x in results))\n"
   ]
  },
  {
   "cell_type": "code",
   "execution_count": null,
   "id": "d99c3334",
   "metadata": {},
   "outputs": [
    {
     "ename": "ValueError",
     "evalue": "invalid literal for int() with base 10: ''",
     "output_type": "error",
     "traceback": [
      "\u001b[0;31m---------------------------------------------------------------------------\u001b[0m",
      "\u001b[0;31mValueError\u001b[0m                                Traceback (most recent call last)",
      "Cell \u001b[0;32mIn[73], line 7\u001b[0m\n\u001b[1;32m      1\u001b[0m \u001b[38;5;66;03m#problem29: Enumerating Oriented Gene Orderings\u001b[39;00m\n\u001b[1;32m      2\u001b[0m \u001b[38;5;66;03m#itertools 활용 다시 볼 것\u001b[39;00m\n\u001b[1;32m      3\u001b[0m \u001b[38;5;66;03m#permutations 는 순서 다르면 다른 조합 인정\u001b[39;00m\n\u001b[1;32m      5\u001b[0m \u001b[38;5;28;01mimport\u001b[39;00m\u001b[38;5;250m \u001b[39m\u001b[38;5;21;01mitertools\u001b[39;00m\n\u001b[0;32m----> 7\u001b[0m n \u001b[38;5;241m=\u001b[39m \u001b[38;5;28;43mint\u001b[39;49m\u001b[43m(\u001b[49m\u001b[38;5;28;43minput\u001b[39;49m\u001b[43m(\u001b[49m\u001b[38;5;124;43m\"\u001b[39;49m\u001b[38;5;124;43mn <= 6\u001b[39;49m\u001b[38;5;124;43m\"\u001b[39;49m\u001b[43m)\u001b[49m\u001b[43m)\u001b[49m\n\u001b[1;32m      9\u001b[0m \u001b[38;5;28;01mdef\u001b[39;00m\u001b[38;5;250m \u001b[39m\u001b[38;5;21mgene_ordered\u001b[39m(n):\n\u001b[1;32m     10\u001b[0m     numbers \u001b[38;5;241m=\u001b[39m [x \u001b[38;5;28;01mfor\u001b[39;00m x \u001b[38;5;129;01min\u001b[39;00m \u001b[38;5;28mrange\u001b[39m(\u001b[38;5;241m1\u001b[39m, n\u001b[38;5;241m+\u001b[39m\u001b[38;5;241m1\u001b[39m)]\n",
      "\u001b[0;31mValueError\u001b[0m: invalid literal for int() with base 10: ''"
     ]
    }
   ],
   "source": [
    "#problem29: Enumerating Oriented Gene Orderings\n",
    "#itertools 활용 다시 볼 것\n",
    "#permutations 는 순서 다르면 다른 조합 인정\n",
    "#product는 중복을 허용하면서 모든 경우의 수(데카르트곱)\n",
    "\n",
    "import itertools\n",
    "\n",
    "n = int(input(\"n <= 6\"))\n",
    "\n",
    "def gene_ordered(n):\n",
    "    numbers = [x for x in range(1, n+1)]\n",
    "    permuts = list(itertools.permutations(numbers))\n",
    "\n",
    "    signed_perms = list()\n",
    "    for perm in permuts:\n",
    "        for signs in itertools.product([1, -1], repeat=n):\n",
    "            signed_perm = [a * sign for a, sign in zip(perm, signs)]\n",
    "            signed_perms.append(signed_perm)\n",
    "\n",
    "    return signed_perms\n",
    "\n",
    "signed_perms = gene_ordered(n)\n",
    "print(len(signed_perms))\n",
    "for p in signed_perms:\n",
    "    print(' '.join(map(str, p)))"
   ]
  },
  {
   "cell_type": "code",
   "execution_count": 72,
   "id": "7fe12cc5",
   "metadata": {},
   "outputs": [
    {
     "name": "stdout",
     "output_type": "stream",
     "text": [
      "3 8 15 17 23 26 27 32 36 37 40 43 53 54 55 59 62 64 66 74 77 86 87 99 107 113 120 123 135 140 142 144 165 177 186 188 189 198 205 207 215 221 223 225 227 235 240 246 254 255 257 258 259 263 268 271 276 277 278 284 285 287 294 302 306 307 311 315 316 322 326 328 335 347 355 361 365 367 368 373 383 386 390 394 397 402 407 408 413 414 417 421 423 424 429 435 437 442\n"
     ]
    }
   ],
   "source": [
    "#problem30: Finding a Spliced Motif\n",
    "#while로 이전 index 고려 x\n",
    "\n",
    "dataset = {}\n",
    "with open(\"rosalind_sseq.txt\") as handle:\n",
    "    for line in handle:\n",
    "        line = line.strip()\n",
    "        if line.startswith(\">\"):\n",
    "            id = line[1:]\n",
    "            dataset[id] = \"\"\n",
    "        else:\n",
    "            dataset[id] += line\n",
    "\n",
    "s, t = list(dataset.values())\n",
    "\n",
    "\n",
    "def motif(s, t):\n",
    "    idx_list = []\n",
    "    i = 0\n",
    "    for base in t:\n",
    "        while s[i] != base:\n",
    "            i += 1\n",
    "        idx_list.append(i + 1) #1based\n",
    "        i += 1\n",
    "\n",
    "    return idx_list\n",
    "\n",
    "print(*motif(s, t))"
   ]
  }
 ],
 "metadata": {
  "kernelspec": {
   "display_name": "base",
   "language": "python",
   "name": "python3"
  },
  "language_info": {
   "codemirror_mode": {
    "name": "ipython",
    "version": 3
   },
   "file_extension": ".py",
   "mimetype": "text/x-python",
   "name": "python",
   "nbconvert_exporter": "python",
   "pygments_lexer": "ipython3",
   "version": "3.9.12"
  }
 },
 "nbformat": 4,
 "nbformat_minor": 5
}
